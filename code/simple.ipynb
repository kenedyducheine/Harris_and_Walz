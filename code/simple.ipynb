{
 "cells": [
  {
   "metadata": {},
   "cell_type": "markdown",
   "source": "# Kamala and Walz Notebook",
   "id": "8a77807f92f26ee"
  },
  {
   "metadata": {
    "ExecuteTime": {
     "end_time": "2024-08-07T23:00:54.565498Z",
     "start_time": "2024-08-07T23:00:54.509141Z"
    }
   },
   "cell_type": "code",
   "source": [
    "# Import libraries\n",
    "import pandas as pd\n",
    "import requests\n",
    "import json"
   ],
   "id": "7df9140457caed5e",
   "outputs": [],
   "execution_count": 20
  },
  {
   "metadata": {
    "ExecuteTime": {
     "end_time": "2024-08-08T00:34:07.329224Z",
     "start_time": "2024-08-08T00:34:07.275905Z"
    }
   },
   "cell_type": "code",
   "source": [
    "with open ('params.json') as param_json:\n",
    "    params = json.load(param_json)\n",
    "    \n",
    "CLIENT_ID = params['CLIENT_ID']\n",
    "SECRET_TOKEN = params['SECRET_TOKEN']\n",
    "USERNAME = params['USERNAME']\n",
    "PASSWORD = params['PASSWORD']\n",
    "KEYWORDS = params['KEYWORDS']\n",
    "keywords = [word.lower() for word in  KEYWORDS]\n"
   ],
   "id": "6a659dbe63e3feff",
   "outputs": [],
   "execution_count": 45
  },
  {
   "metadata": {
    "collapsed": true,
    "ExecuteTime": {
     "end_time": "2024-08-08T00:34:12.285832Z",
     "start_time": "2024-08-08T00:34:10.962496Z"
    }
   },
   "cell_type": "code",
   "source": [
    "# note that CLIENT_ID refers to 'personal use script' and SECRET_TOKEN to 'token'\n",
    "auth = requests.auth.HTTPBasicAuth(CLIENT_ID, SECRET_TOKEN)\n",
    "\n",
    "# here we pass our login method (password), username, and password\n",
    "data = {'grant_type': 'password',\n",
    "        'username': USERNAME,\n",
    "        'password': PASSWORD}\n",
    "\n",
    "# setup our header info, which gives reddit a brief description of our app\n",
    "headers = {'User-Agent': 'MyBot/0.0.1'}\n",
    "\n",
    "# send our request for an OAuth token\n",
    "res = requests.post('https://www.reddit.com/api/v1/access_token',\n",
    "                    auth=auth, data=data, headers=headers)\n",
    "\n",
    "# convert response to JSON and pull access_token value\n",
    "TOKEN = res.json()['access_token']\n",
    "\n",
    "# add authorization to our headers dictionary\n",
    "headers = {**headers, **{'Authorization': f\"bearer {TOKEN}\"}}\n",
    "\n",
    "# while the token is valid (~2 hours) we just add headers=headers to our requests\n",
    "requests.get('https://oauth.reddit.com/api/v1/me', headers=headers)"
   ],
   "id": "initial_id",
   "outputs": [
    {
     "data": {
      "text/plain": [
       "<Response [200]>"
      ]
     },
     "execution_count": 46,
     "metadata": {},
     "output_type": "execute_result"
    }
   ],
   "execution_count": 46
  },
  {
   "metadata": {},
   "cell_type": "markdown",
   "source": [
    "#### Get post for 4 political subreddits. \n",
    "Not including conservative only subreddits"
   ],
   "id": "d837e9574410f786"
  },
  {
   "metadata": {
    "ExecuteTime": {
     "end_time": "2024-08-08T02:55:51.428542Z",
     "start_time": "2024-08-08T02:55:51.402608Z"
    }
   },
   "cell_type": "code",
   "source": [
    "def get_post(subreddit, cats, concated_df): \n",
    "    res = requests.get(f\"https://oauth.reddit.com/r/{subreddit}/{cats}\",\n",
    "                       headers=headers)\n",
    "    data = res.json()\n",
    "    #print(data)\n",
    "    posts = data['data']['children']\n",
    "    posts_data = []\n",
    "        \n",
    "    for post in posts:\n",
    "        post_info = post['data']\n",
    "        posts_data.append({\n",
    "               'title': post_info['title'],\n",
    "               'upvote_ratio': post_info['upvote_ratio'],\n",
    "               'subreddit_name_prefixed': post_info['subreddit_name_prefixed'], \n",
    "               'date' : post_info['created_utc']\n",
    "            \n",
    "        })\n",
    "        \n",
    "        # Create a DataFrame\n",
    "    df = pd.DataFrame(posts_data)\n",
    "    \n",
    "    df['date'] = pd.to_datetime(df['date'], unit='s').dt.tz_localize('UTC').dt.tz_convert('US/Eastern')\n",
    "    df['title'] = df['title'].apply(lambda x: x.lower())\n",
    "    df = df[df['title'].apply(lambda word: any(keyword in word for keyword in keywords))]\n",
    "    \n",
    "    newDF = pd.concat([df, concated_df], ignore_index=True)\n",
    "    \n",
    "    return newDF\n",
    "\n",
    "    "
   ],
   "id": "4e706cbc7833c8a4",
   "outputs": [],
   "execution_count": 87
  },
  {
   "metadata": {},
   "cell_type": "markdown",
   "source": [
    "#### r/Poltics Rising\n",
    "This code gets the 'rising' 25 post in the r/Politics subreddit \n",
    "'rising' is defined as post that are getting more and more attention "
   ],
   "id": "82153f378feb79ed"
  },
  {
   "metadata": {
    "ExecuteTime": {
     "end_time": "2024-08-08T03:04:32.482033Z",
     "start_time": "2024-08-08T03:04:32.428016Z"
    }
   },
   "cell_type": "code",
   "source": [
    "def run():\n",
    "    with open('titles.csv') as maindf:\n",
    "        main_df = pd.read_csv(maindf)\n",
    "    \n",
    "    df = get_post(\"politics\", \"hot\", main_df)\n",
    "    df = get_post(\"democrats\", \"rising\", df)\n",
    "    df = get_post(\"politicaldiscussion\", \"rising\", df)\n",
    "    df = get_post(\"politicaldiscussion\", \"hot\", df)\n",
    "    df = get_post(\"moderatepolitics\", \"rising\", df)\n",
    "    df = get_post(\"moderatepolitics\", \"hot\", df)\n",
    "    df = get_post(\"democrats\", \"hot\", df)\n",
    "    df = get_post(\"politics\", \"rising\", df)\n",
    "    df = get_post(\"politics\", \"hot\", df)\n",
    "    df = df[['title', 'upvote_ratio', 'subreddit_name_prefixed', 'date']]\n",
    "    df = df.drop_duplicates()\n",
    "    df.to_csv('titles.csv')\n",
    "\n"
   ],
   "id": "57f7aecd3dd9f8b1",
   "outputs": [],
   "execution_count": 94
  },
  {
   "metadata": {
    "ExecuteTime": {
     "end_time": "2024-08-08T03:04:40.707785Z",
     "start_time": "2024-08-08T03:04:34.605342Z"
    }
   },
   "cell_type": "code",
   "source": "run()",
   "id": "21501fad12acc9ed",
   "outputs": [],
   "execution_count": 95
  }
 ],
 "metadata": {
  "kernelspec": {
   "display_name": "Python 3",
   "language": "python",
   "name": "python3"
  },
  "language_info": {
   "codemirror_mode": {
    "name": "ipython",
    "version": 2
   },
   "file_extension": ".py",
   "mimetype": "text/x-python",
   "name": "python",
   "nbconvert_exporter": "python",
   "pygments_lexer": "ipython2",
   "version": "2.7.6"
  }
 },
 "nbformat": 4,
 "nbformat_minor": 5
}
